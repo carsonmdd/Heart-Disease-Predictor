{
 "cells": [
  {
   "cell_type": "code",
   "execution_count": 131,
   "id": "11f3f0c1",
   "metadata": {},
   "outputs": [],
   "source": [
    "import pandas as pd\n",
    "import joblib\n",
    "from sklearn.model_selection import cross_val_score\n",
    "import numpy as np"
   ]
  },
  {
   "cell_type": "code",
   "execution_count": 132,
   "id": "56d2b111",
   "metadata": {},
   "outputs": [],
   "source": [
    "X_test = pd.read_csv('x_testing_data.csv')\n",
    "y_test = pd.read_csv('y_testing_data.csv')"
   ]
  },
  {
   "cell_type": "code",
   "execution_count": 133,
   "id": "361b78aa",
   "metadata": {},
   "outputs": [],
   "source": [
    "clf = joblib.load('forest_model.joblib')"
   ]
  },
  {
   "cell_type": "code",
   "execution_count": 134,
   "id": "299085b5",
   "metadata": {},
   "outputs": [
    {
     "name": "stdout",
     "output_type": "stream",
     "text": [
      "0.8768831168831168\n"
     ]
    }
   ],
   "source": [
    "scores = cross_val_score(clf, X_test, y_test.values.ravel())\n",
    "score_avg = np.mean(scores)\n",
    "print(score_avg)"
   ]
  }
 ],
 "metadata": {
  "kernelspec": {
   "display_name": "Python 3 (ipykernel)",
   "language": "python",
   "name": "python3"
  },
  "language_info": {
   "codemirror_mode": {
    "name": "ipython",
    "version": 3
   },
   "file_extension": ".py",
   "mimetype": "text/x-python",
   "name": "python",
   "nbconvert_exporter": "python",
   "pygments_lexer": "ipython3",
   "version": "3.11.7"
  }
 },
 "nbformat": 4,
 "nbformat_minor": 5
}
